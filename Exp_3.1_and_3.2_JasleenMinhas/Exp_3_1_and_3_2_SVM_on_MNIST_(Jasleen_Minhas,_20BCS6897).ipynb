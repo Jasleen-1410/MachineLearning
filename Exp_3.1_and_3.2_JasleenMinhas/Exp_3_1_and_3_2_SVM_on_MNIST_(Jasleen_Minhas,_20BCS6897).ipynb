{
  "cells": [
    {
      "cell_type": "markdown",
      "source": [
        "# **Experiment 3.1 and 3.2**\n",
        "### You are required to develop a model using SVM which should correctly classify the handwritten digits based on the pixel values given as features."
      ],
      "metadata": {
        "id": "fh6AyMqJe5FL"
      },
      "id": "fh6AyMqJe5FL"
    },
    {
      "cell_type": "markdown",
      "source": [
        "## By: Jasleen Minhas\n",
        "\n",
        "## UID: 20BCS6897 \n"
      ],
      "metadata": {
        "id": "K03s078ovdjC"
      },
      "id": "K03s078ovdjC"
    },
    {
      "cell_type": "code",
      "execution_count": 1,
      "id": "61cd2630",
      "metadata": {
        "id": "61cd2630"
      },
      "outputs": [],
      "source": [
        "# Importing libraries\n",
        "import numpy as np \n",
        "import pandas as pd\n",
        "import matplotlib.pyplot as plt\n",
        "from sklearn.model_selection import train_test_split\n",
        "import seaborn as sns\n",
        "from sklearn import metrics\n",
        "\n",
        "import warnings\n",
        "warnings.filterwarnings('ignore')"
      ]
    },
    {
      "cell_type": "markdown",
      "id": "68e31199",
      "metadata": {
        "id": "68e31199"
      },
      "source": [
        "# **Load the MNIST dataset and understanding it**"
      ]
    },
    {
      "cell_type": "code",
      "source": [
        "mnist = pd.read_csv(\"mnistTrain.csv\") #reading the csv files using pandas"
      ],
      "metadata": {
        "id": "a1zb6tfxfNZB"
      },
      "id": "a1zb6tfxfNZB",
      "execution_count": 2,
      "outputs": []
    },
    {
      "cell_type": "markdown",
      "source": [
        "**Dataset Link**: https://drive.google.com/drive/folders/1hKv8a5iZXQ5dN4tSRrNQJTXiQ2-VjQah?usp=sharing"
      ],
      "metadata": {
        "id": "zkaYEetCH9RY"
      },
      "id": "zkaYEetCH9RY"
    },
    {
      "cell_type": "code",
      "source": [
        "print(\"Image Data Shape\" , mnist.shape)  # (28 by 28 images for a dimensionality of 784)\n"
      ],
      "metadata": {
        "id": "lzVeHrNXcqCe",
        "colab": {
          "base_uri": "https://localhost:8080/"
        },
        "outputId": "24f8a093-a34b-449c-96ee-89b3f586b909"
      },
      "id": "lzVeHrNXcqCe",
      "execution_count": 3,
      "outputs": [
        {
          "output_type": "stream",
          "name": "stdout",
          "text": [
            "Image Data Shape (9170, 785)\n"
          ]
        }
      ]
    },
    {
      "cell_type": "markdown",
      "id": "e9c76813",
      "metadata": {
        "id": "e9c76813"
      },
      "source": [
        "* There are images each of dimension 28x28 pixels."
      ]
    },
    {
      "cell_type": "code",
      "source": [
        "mnist.head()"
      ],
      "metadata": {
        "colab": {
          "base_uri": "https://localhost:8080/",
          "height": 297
        },
        "id": "AyaIFHtngKp6",
        "outputId": "532a93df-f65b-4cd8-94d2-16362f9631c8"
      },
      "id": "AyaIFHtngKp6",
      "execution_count": 4,
      "outputs": [
        {
          "output_type": "execute_result",
          "data": {
            "text/plain": [
              "   label  pixel0  pixel1  pixel2  pixel3  pixel4  pixel5  pixel6  pixel7  \\\n",
              "0      1       0       0       0       0       0       0       0       0   \n",
              "1      0       0       0       0       0       0       0       0       0   \n",
              "2      1       0       0       0       0       0       0       0       0   \n",
              "3      4       0       0       0       0       0       0       0       0   \n",
              "4      0       0       0       0       0       0       0       0       0   \n",
              "\n",
              "   pixel8  ...  pixel774  pixel775  pixel776  pixel777  pixel778  pixel779  \\\n",
              "0       0  ...       0.0       0.0       0.0       0.0       0.0       0.0   \n",
              "1       0  ...       0.0       0.0       0.0       0.0       0.0       0.0   \n",
              "2       0  ...       0.0       0.0       0.0       0.0       0.0       0.0   \n",
              "3       0  ...       0.0       0.0       0.0       0.0       0.0       0.0   \n",
              "4       0  ...       0.0       0.0       0.0       0.0       0.0       0.0   \n",
              "\n",
              "   pixel780  pixel781  pixel782  pixel783  \n",
              "0       0.0       0.0       0.0       0.0  \n",
              "1       0.0       0.0       0.0       0.0  \n",
              "2       0.0       0.0       0.0       0.0  \n",
              "3       0.0       0.0       0.0       0.0  \n",
              "4       0.0       0.0       0.0       0.0  \n",
              "\n",
              "[5 rows x 785 columns]"
            ],
            "text/html": [
              "\n",
              "  <div id=\"df-4d15cafb-42bf-4f30-a032-e398c6f98580\">\n",
              "    <div class=\"colab-df-container\">\n",
              "      <div>\n",
              "<style scoped>\n",
              "    .dataframe tbody tr th:only-of-type {\n",
              "        vertical-align: middle;\n",
              "    }\n",
              "\n",
              "    .dataframe tbody tr th {\n",
              "        vertical-align: top;\n",
              "    }\n",
              "\n",
              "    .dataframe thead th {\n",
              "        text-align: right;\n",
              "    }\n",
              "</style>\n",
              "<table border=\"1\" class=\"dataframe\">\n",
              "  <thead>\n",
              "    <tr style=\"text-align: right;\">\n",
              "      <th></th>\n",
              "      <th>label</th>\n",
              "      <th>pixel0</th>\n",
              "      <th>pixel1</th>\n",
              "      <th>pixel2</th>\n",
              "      <th>pixel3</th>\n",
              "      <th>pixel4</th>\n",
              "      <th>pixel5</th>\n",
              "      <th>pixel6</th>\n",
              "      <th>pixel7</th>\n",
              "      <th>pixel8</th>\n",
              "      <th>...</th>\n",
              "      <th>pixel774</th>\n",
              "      <th>pixel775</th>\n",
              "      <th>pixel776</th>\n",
              "      <th>pixel777</th>\n",
              "      <th>pixel778</th>\n",
              "      <th>pixel779</th>\n",
              "      <th>pixel780</th>\n",
              "      <th>pixel781</th>\n",
              "      <th>pixel782</th>\n",
              "      <th>pixel783</th>\n",
              "    </tr>\n",
              "  </thead>\n",
              "  <tbody>\n",
              "    <tr>\n",
              "      <th>0</th>\n",
              "      <td>1</td>\n",
              "      <td>0</td>\n",
              "      <td>0</td>\n",
              "      <td>0</td>\n",
              "      <td>0</td>\n",
              "      <td>0</td>\n",
              "      <td>0</td>\n",
              "      <td>0</td>\n",
              "      <td>0</td>\n",
              "      <td>0</td>\n",
              "      <td>...</td>\n",
              "      <td>0.0</td>\n",
              "      <td>0.0</td>\n",
              "      <td>0.0</td>\n",
              "      <td>0.0</td>\n",
              "      <td>0.0</td>\n",
              "      <td>0.0</td>\n",
              "      <td>0.0</td>\n",
              "      <td>0.0</td>\n",
              "      <td>0.0</td>\n",
              "      <td>0.0</td>\n",
              "    </tr>\n",
              "    <tr>\n",
              "      <th>1</th>\n",
              "      <td>0</td>\n",
              "      <td>0</td>\n",
              "      <td>0</td>\n",
              "      <td>0</td>\n",
              "      <td>0</td>\n",
              "      <td>0</td>\n",
              "      <td>0</td>\n",
              "      <td>0</td>\n",
              "      <td>0</td>\n",
              "      <td>0</td>\n",
              "      <td>...</td>\n",
              "      <td>0.0</td>\n",
              "      <td>0.0</td>\n",
              "      <td>0.0</td>\n",
              "      <td>0.0</td>\n",
              "      <td>0.0</td>\n",
              "      <td>0.0</td>\n",
              "      <td>0.0</td>\n",
              "      <td>0.0</td>\n",
              "      <td>0.0</td>\n",
              "      <td>0.0</td>\n",
              "    </tr>\n",
              "    <tr>\n",
              "      <th>2</th>\n",
              "      <td>1</td>\n",
              "      <td>0</td>\n",
              "      <td>0</td>\n",
              "      <td>0</td>\n",
              "      <td>0</td>\n",
              "      <td>0</td>\n",
              "      <td>0</td>\n",
              "      <td>0</td>\n",
              "      <td>0</td>\n",
              "      <td>0</td>\n",
              "      <td>...</td>\n",
              "      <td>0.0</td>\n",
              "      <td>0.0</td>\n",
              "      <td>0.0</td>\n",
              "      <td>0.0</td>\n",
              "      <td>0.0</td>\n",
              "      <td>0.0</td>\n",
              "      <td>0.0</td>\n",
              "      <td>0.0</td>\n",
              "      <td>0.0</td>\n",
              "      <td>0.0</td>\n",
              "    </tr>\n",
              "    <tr>\n",
              "      <th>3</th>\n",
              "      <td>4</td>\n",
              "      <td>0</td>\n",
              "      <td>0</td>\n",
              "      <td>0</td>\n",
              "      <td>0</td>\n",
              "      <td>0</td>\n",
              "      <td>0</td>\n",
              "      <td>0</td>\n",
              "      <td>0</td>\n",
              "      <td>0</td>\n",
              "      <td>...</td>\n",
              "      <td>0.0</td>\n",
              "      <td>0.0</td>\n",
              "      <td>0.0</td>\n",
              "      <td>0.0</td>\n",
              "      <td>0.0</td>\n",
              "      <td>0.0</td>\n",
              "      <td>0.0</td>\n",
              "      <td>0.0</td>\n",
              "      <td>0.0</td>\n",
              "      <td>0.0</td>\n",
              "    </tr>\n",
              "    <tr>\n",
              "      <th>4</th>\n",
              "      <td>0</td>\n",
              "      <td>0</td>\n",
              "      <td>0</td>\n",
              "      <td>0</td>\n",
              "      <td>0</td>\n",
              "      <td>0</td>\n",
              "      <td>0</td>\n",
              "      <td>0</td>\n",
              "      <td>0</td>\n",
              "      <td>0</td>\n",
              "      <td>...</td>\n",
              "      <td>0.0</td>\n",
              "      <td>0.0</td>\n",
              "      <td>0.0</td>\n",
              "      <td>0.0</td>\n",
              "      <td>0.0</td>\n",
              "      <td>0.0</td>\n",
              "      <td>0.0</td>\n",
              "      <td>0.0</td>\n",
              "      <td>0.0</td>\n",
              "      <td>0.0</td>\n",
              "    </tr>\n",
              "  </tbody>\n",
              "</table>\n",
              "<p>5 rows × 785 columns</p>\n",
              "</div>\n",
              "      <button class=\"colab-df-convert\" onclick=\"convertToInteractive('df-4d15cafb-42bf-4f30-a032-e398c6f98580')\"\n",
              "              title=\"Convert this dataframe to an interactive table.\"\n",
              "              style=\"display:none;\">\n",
              "        \n",
              "  <svg xmlns=\"http://www.w3.org/2000/svg\" height=\"24px\"viewBox=\"0 0 24 24\"\n",
              "       width=\"24px\">\n",
              "    <path d=\"M0 0h24v24H0V0z\" fill=\"none\"/>\n",
              "    <path d=\"M18.56 5.44l.94 2.06.94-2.06 2.06-.94-2.06-.94-.94-2.06-.94 2.06-2.06.94zm-11 1L8.5 8.5l.94-2.06 2.06-.94-2.06-.94L8.5 2.5l-.94 2.06-2.06.94zm10 10l.94 2.06.94-2.06 2.06-.94-2.06-.94-.94-2.06-.94 2.06-2.06.94z\"/><path d=\"M17.41 7.96l-1.37-1.37c-.4-.4-.92-.59-1.43-.59-.52 0-1.04.2-1.43.59L10.3 9.45l-7.72 7.72c-.78.78-.78 2.05 0 2.83L4 21.41c.39.39.9.59 1.41.59.51 0 1.02-.2 1.41-.59l7.78-7.78 2.81-2.81c.8-.78.8-2.07 0-2.86zM5.41 20L4 18.59l7.72-7.72 1.47 1.35L5.41 20z\"/>\n",
              "  </svg>\n",
              "      </button>\n",
              "      \n",
              "  <style>\n",
              "    .colab-df-container {\n",
              "      display:flex;\n",
              "      flex-wrap:wrap;\n",
              "      gap: 12px;\n",
              "    }\n",
              "\n",
              "    .colab-df-convert {\n",
              "      background-color: #E8F0FE;\n",
              "      border: none;\n",
              "      border-radius: 50%;\n",
              "      cursor: pointer;\n",
              "      display: none;\n",
              "      fill: #1967D2;\n",
              "      height: 32px;\n",
              "      padding: 0 0 0 0;\n",
              "      width: 32px;\n",
              "    }\n",
              "\n",
              "    .colab-df-convert:hover {\n",
              "      background-color: #E2EBFA;\n",
              "      box-shadow: 0px 1px 2px rgba(60, 64, 67, 0.3), 0px 1px 3px 1px rgba(60, 64, 67, 0.15);\n",
              "      fill: #174EA6;\n",
              "    }\n",
              "\n",
              "    [theme=dark] .colab-df-convert {\n",
              "      background-color: #3B4455;\n",
              "      fill: #D2E3FC;\n",
              "    }\n",
              "\n",
              "    [theme=dark] .colab-df-convert:hover {\n",
              "      background-color: #434B5C;\n",
              "      box-shadow: 0px 1px 3px 1px rgba(0, 0, 0, 0.15);\n",
              "      filter: drop-shadow(0px 1px 2px rgba(0, 0, 0, 0.3));\n",
              "      fill: #FFFFFF;\n",
              "    }\n",
              "  </style>\n",
              "\n",
              "      <script>\n",
              "        const buttonEl =\n",
              "          document.querySelector('#df-4d15cafb-42bf-4f30-a032-e398c6f98580 button.colab-df-convert');\n",
              "        buttonEl.style.display =\n",
              "          google.colab.kernel.accessAllowed ? 'block' : 'none';\n",
              "\n",
              "        async function convertToInteractive(key) {\n",
              "          const element = document.querySelector('#df-4d15cafb-42bf-4f30-a032-e398c6f98580');\n",
              "          const dataTable =\n",
              "            await google.colab.kernel.invokeFunction('convertToInteractive',\n",
              "                                                     [key], {});\n",
              "          if (!dataTable) return;\n",
              "\n",
              "          const docLinkHtml = 'Like what you see? Visit the ' +\n",
              "            '<a target=\"_blank\" href=https://colab.research.google.com/notebooks/data_table.ipynb>data table notebook</a>'\n",
              "            + ' to learn more about interactive tables.';\n",
              "          element.innerHTML = '';\n",
              "          dataTable['output_type'] = 'display_data';\n",
              "          await google.colab.output.renderOutput(dataTable, element);\n",
              "          const docLink = document.createElement('div');\n",
              "          docLink.innerHTML = docLinkHtml;\n",
              "          element.appendChild(docLink);\n",
              "        }\n",
              "      </script>\n",
              "    </div>\n",
              "  </div>\n",
              "  "
            ]
          },
          "metadata": {},
          "execution_count": 4
        }
      ]
    },
    {
      "cell_type": "code",
      "source": [
        "# Checking for missing values in the dataset \n",
        "mnist.isnull().sum().head(10)"
      ],
      "metadata": {
        "colab": {
          "base_uri": "https://localhost:8080/"
        },
        "id": "FZDeCgoHgS0c",
        "outputId": "659bf09e-7d84-4346-af93-aa7d83ac36be"
      },
      "id": "FZDeCgoHgS0c",
      "execution_count": 5,
      "outputs": [
        {
          "output_type": "execute_result",
          "data": {
            "text/plain": [
              "label     0\n",
              "pixel0    0\n",
              "pixel1    0\n",
              "pixel2    0\n",
              "pixel3    0\n",
              "pixel4    0\n",
              "pixel5    0\n",
              "pixel6    0\n",
              "pixel7    0\n",
              "pixel8    0\n",
              "dtype: int64"
            ]
          },
          "metadata": {},
          "execution_count": 5
        }
      ]
    },
    {
      "cell_type": "code",
      "source": [
        "# Checking for infinite and NAN \n",
        "print(np.any(np.isnan(mnist)))\n",
        "print(np.all(np.isfinite(mnist)))"
      ],
      "metadata": {
        "colab": {
          "base_uri": "https://localhost:8080/"
        },
        "id": "3dJ_NlSrPEk3",
        "outputId": "a831839e-e385-4a84-d0ab-05328d1213a9"
      },
      "id": "3dJ_NlSrPEk3",
      "execution_count": 6,
      "outputs": [
        {
          "output_type": "stream",
          "name": "stdout",
          "text": [
            "True\n",
            "False\n"
          ]
        }
      ]
    },
    {
      "cell_type": "code",
      "source": [
        "# Since there are nan and infinite values so filling then with the mean()\n",
        "mnist.fillna(mnist.mean(), inplace=True)"
      ],
      "metadata": {
        "id": "Zd3JayQzPNWe"
      },
      "id": "Zd3JayQzPNWe",
      "execution_count": 7,
      "outputs": []
    },
    {
      "cell_type": "code",
      "source": [
        "# Now Infinite and NAN values are removed \n",
        "print(np.any(np.isnan(mnist)))\n",
        "print(np.all(np.isfinite(mnist)))"
      ],
      "metadata": {
        "colab": {
          "base_uri": "https://localhost:8080/"
        },
        "id": "sF2A5Y8-77O6",
        "outputId": "77551757-45ac-4713-8081-93de13bf8eb4"
      },
      "id": "sF2A5Y8-77O6",
      "execution_count": 8,
      "outputs": [
        {
          "output_type": "stream",
          "name": "stdout",
          "text": [
            "False\n",
            "True\n"
          ]
        }
      ]
    },
    {
      "cell_type": "code",
      "source": [
        "# Data types\n",
        "print(mnist.info())"
      ],
      "metadata": {
        "colab": {
          "base_uri": "https://localhost:8080/"
        },
        "id": "Qxbd7EJcgmOD",
        "outputId": "c324e49a-8507-4cc2-ebd6-6645c204ecd9"
      },
      "id": "Qxbd7EJcgmOD",
      "execution_count": 9,
      "outputs": [
        {
          "output_type": "stream",
          "name": "stdout",
          "text": [
            "<class 'pandas.core.frame.DataFrame'>\n",
            "RangeIndex: 9170 entries, 0 to 9169\n",
            "Columns: 785 entries, label to pixel783\n",
            "dtypes: float64(168), int64(617)\n",
            "memory usage: 54.9 MB\n",
            "None\n"
          ]
        }
      ]
    },
    {
      "cell_type": "code",
      "source": [
        "mnist.describe()"
      ],
      "metadata": {
        "colab": {
          "base_uri": "https://localhost:8080/",
          "height": 390
        },
        "id": "IoksM0wvgfjE",
        "outputId": "d8a99273-93e1-4879-943d-6a4b4750fdcd"
      },
      "id": "IoksM0wvgfjE",
      "execution_count": 10,
      "outputs": [
        {
          "output_type": "execute_result",
          "data": {
            "text/plain": [
              "             label  pixel0  pixel1  pixel2  pixel3  pixel4  pixel5  pixel6  \\\n",
              "count  9170.000000  9170.0  9170.0  9170.0  9170.0  9170.0  9170.0  9170.0   \n",
              "mean      4.436750     0.0     0.0     0.0     0.0     0.0     0.0     0.0   \n",
              "std       2.888819     0.0     0.0     0.0     0.0     0.0     0.0     0.0   \n",
              "min       0.000000     0.0     0.0     0.0     0.0     0.0     0.0     0.0   \n",
              "25%       2.000000     0.0     0.0     0.0     0.0     0.0     0.0     0.0   \n",
              "50%       4.000000     0.0     0.0     0.0     0.0     0.0     0.0     0.0   \n",
              "75%       7.000000     0.0     0.0     0.0     0.0     0.0     0.0     0.0   \n",
              "max       9.000000     0.0     0.0     0.0     0.0     0.0     0.0     0.0   \n",
              "\n",
              "       pixel7  pixel8  ...    pixel774     pixel775     pixel776     pixel777  \\\n",
              "count  9170.0  9170.0  ...  9170.00000  9170.000000  9170.000000  9170.000000   \n",
              "mean      0.0     0.0  ...     0.14789     0.116916     0.046025     0.019304   \n",
              "std       0.0     0.0  ...     5.37207     4.714590     2.975608     1.848369   \n",
              "min       0.0     0.0  ...     0.00000     0.000000     0.000000     0.000000   \n",
              "25%       0.0     0.0  ...     0.00000     0.000000     0.000000     0.000000   \n",
              "50%       0.0     0.0  ...     0.00000     0.000000     0.000000     0.000000   \n",
              "75%       0.0     0.0  ...     0.00000     0.000000     0.000000     0.000000   \n",
              "max       0.0     0.0  ...   253.00000   253.000000   252.000000   177.000000   \n",
              "\n",
              "          pixel778  pixel779  pixel780  pixel781  pixel782  pixel783  \n",
              "count  9170.000000    9170.0    9170.0    9170.0    9170.0    9170.0  \n",
              "mean      0.002399       0.0       0.0       0.0       0.0       0.0  \n",
              "std       0.229741       0.0       0.0       0.0       0.0       0.0  \n",
              "min       0.000000       0.0       0.0       0.0       0.0       0.0  \n",
              "25%       0.000000       0.0       0.0       0.0       0.0       0.0  \n",
              "50%       0.000000       0.0       0.0       0.0       0.0       0.0  \n",
              "75%       0.000000       0.0       0.0       0.0       0.0       0.0  \n",
              "max      22.000000       0.0       0.0       0.0       0.0       0.0  \n",
              "\n",
              "[8 rows x 785 columns]"
            ],
            "text/html": [
              "\n",
              "  <div id=\"df-0e5d43d6-465f-4417-9529-d3d30178a8b0\">\n",
              "    <div class=\"colab-df-container\">\n",
              "      <div>\n",
              "<style scoped>\n",
              "    .dataframe tbody tr th:only-of-type {\n",
              "        vertical-align: middle;\n",
              "    }\n",
              "\n",
              "    .dataframe tbody tr th {\n",
              "        vertical-align: top;\n",
              "    }\n",
              "\n",
              "    .dataframe thead th {\n",
              "        text-align: right;\n",
              "    }\n",
              "</style>\n",
              "<table border=\"1\" class=\"dataframe\">\n",
              "  <thead>\n",
              "    <tr style=\"text-align: right;\">\n",
              "      <th></th>\n",
              "      <th>label</th>\n",
              "      <th>pixel0</th>\n",
              "      <th>pixel1</th>\n",
              "      <th>pixel2</th>\n",
              "      <th>pixel3</th>\n",
              "      <th>pixel4</th>\n",
              "      <th>pixel5</th>\n",
              "      <th>pixel6</th>\n",
              "      <th>pixel7</th>\n",
              "      <th>pixel8</th>\n",
              "      <th>...</th>\n",
              "      <th>pixel774</th>\n",
              "      <th>pixel775</th>\n",
              "      <th>pixel776</th>\n",
              "      <th>pixel777</th>\n",
              "      <th>pixel778</th>\n",
              "      <th>pixel779</th>\n",
              "      <th>pixel780</th>\n",
              "      <th>pixel781</th>\n",
              "      <th>pixel782</th>\n",
              "      <th>pixel783</th>\n",
              "    </tr>\n",
              "  </thead>\n",
              "  <tbody>\n",
              "    <tr>\n",
              "      <th>count</th>\n",
              "      <td>9170.000000</td>\n",
              "      <td>9170.0</td>\n",
              "      <td>9170.0</td>\n",
              "      <td>9170.0</td>\n",
              "      <td>9170.0</td>\n",
              "      <td>9170.0</td>\n",
              "      <td>9170.0</td>\n",
              "      <td>9170.0</td>\n",
              "      <td>9170.0</td>\n",
              "      <td>9170.0</td>\n",
              "      <td>...</td>\n",
              "      <td>9170.00000</td>\n",
              "      <td>9170.000000</td>\n",
              "      <td>9170.000000</td>\n",
              "      <td>9170.000000</td>\n",
              "      <td>9170.000000</td>\n",
              "      <td>9170.0</td>\n",
              "      <td>9170.0</td>\n",
              "      <td>9170.0</td>\n",
              "      <td>9170.0</td>\n",
              "      <td>9170.0</td>\n",
              "    </tr>\n",
              "    <tr>\n",
              "      <th>mean</th>\n",
              "      <td>4.436750</td>\n",
              "      <td>0.0</td>\n",
              "      <td>0.0</td>\n",
              "      <td>0.0</td>\n",
              "      <td>0.0</td>\n",
              "      <td>0.0</td>\n",
              "      <td>0.0</td>\n",
              "      <td>0.0</td>\n",
              "      <td>0.0</td>\n",
              "      <td>0.0</td>\n",
              "      <td>...</td>\n",
              "      <td>0.14789</td>\n",
              "      <td>0.116916</td>\n",
              "      <td>0.046025</td>\n",
              "      <td>0.019304</td>\n",
              "      <td>0.002399</td>\n",
              "      <td>0.0</td>\n",
              "      <td>0.0</td>\n",
              "      <td>0.0</td>\n",
              "      <td>0.0</td>\n",
              "      <td>0.0</td>\n",
              "    </tr>\n",
              "    <tr>\n",
              "      <th>std</th>\n",
              "      <td>2.888819</td>\n",
              "      <td>0.0</td>\n",
              "      <td>0.0</td>\n",
              "      <td>0.0</td>\n",
              "      <td>0.0</td>\n",
              "      <td>0.0</td>\n",
              "      <td>0.0</td>\n",
              "      <td>0.0</td>\n",
              "      <td>0.0</td>\n",
              "      <td>0.0</td>\n",
              "      <td>...</td>\n",
              "      <td>5.37207</td>\n",
              "      <td>4.714590</td>\n",
              "      <td>2.975608</td>\n",
              "      <td>1.848369</td>\n",
              "      <td>0.229741</td>\n",
              "      <td>0.0</td>\n",
              "      <td>0.0</td>\n",
              "      <td>0.0</td>\n",
              "      <td>0.0</td>\n",
              "      <td>0.0</td>\n",
              "    </tr>\n",
              "    <tr>\n",
              "      <th>min</th>\n",
              "      <td>0.000000</td>\n",
              "      <td>0.0</td>\n",
              "      <td>0.0</td>\n",
              "      <td>0.0</td>\n",
              "      <td>0.0</td>\n",
              "      <td>0.0</td>\n",
              "      <td>0.0</td>\n",
              "      <td>0.0</td>\n",
              "      <td>0.0</td>\n",
              "      <td>0.0</td>\n",
              "      <td>...</td>\n",
              "      <td>0.00000</td>\n",
              "      <td>0.000000</td>\n",
              "      <td>0.000000</td>\n",
              "      <td>0.000000</td>\n",
              "      <td>0.000000</td>\n",
              "      <td>0.0</td>\n",
              "      <td>0.0</td>\n",
              "      <td>0.0</td>\n",
              "      <td>0.0</td>\n",
              "      <td>0.0</td>\n",
              "    </tr>\n",
              "    <tr>\n",
              "      <th>25%</th>\n",
              "      <td>2.000000</td>\n",
              "      <td>0.0</td>\n",
              "      <td>0.0</td>\n",
              "      <td>0.0</td>\n",
              "      <td>0.0</td>\n",
              "      <td>0.0</td>\n",
              "      <td>0.0</td>\n",
              "      <td>0.0</td>\n",
              "      <td>0.0</td>\n",
              "      <td>0.0</td>\n",
              "      <td>...</td>\n",
              "      <td>0.00000</td>\n",
              "      <td>0.000000</td>\n",
              "      <td>0.000000</td>\n",
              "      <td>0.000000</td>\n",
              "      <td>0.000000</td>\n",
              "      <td>0.0</td>\n",
              "      <td>0.0</td>\n",
              "      <td>0.0</td>\n",
              "      <td>0.0</td>\n",
              "      <td>0.0</td>\n",
              "    </tr>\n",
              "    <tr>\n",
              "      <th>50%</th>\n",
              "      <td>4.000000</td>\n",
              "      <td>0.0</td>\n",
              "      <td>0.0</td>\n",
              "      <td>0.0</td>\n",
              "      <td>0.0</td>\n",
              "      <td>0.0</td>\n",
              "      <td>0.0</td>\n",
              "      <td>0.0</td>\n",
              "      <td>0.0</td>\n",
              "      <td>0.0</td>\n",
              "      <td>...</td>\n",
              "      <td>0.00000</td>\n",
              "      <td>0.000000</td>\n",
              "      <td>0.000000</td>\n",
              "      <td>0.000000</td>\n",
              "      <td>0.000000</td>\n",
              "      <td>0.0</td>\n",
              "      <td>0.0</td>\n",
              "      <td>0.0</td>\n",
              "      <td>0.0</td>\n",
              "      <td>0.0</td>\n",
              "    </tr>\n",
              "    <tr>\n",
              "      <th>75%</th>\n",
              "      <td>7.000000</td>\n",
              "      <td>0.0</td>\n",
              "      <td>0.0</td>\n",
              "      <td>0.0</td>\n",
              "      <td>0.0</td>\n",
              "      <td>0.0</td>\n",
              "      <td>0.0</td>\n",
              "      <td>0.0</td>\n",
              "      <td>0.0</td>\n",
              "      <td>0.0</td>\n",
              "      <td>...</td>\n",
              "      <td>0.00000</td>\n",
              "      <td>0.000000</td>\n",
              "      <td>0.000000</td>\n",
              "      <td>0.000000</td>\n",
              "      <td>0.000000</td>\n",
              "      <td>0.0</td>\n",
              "      <td>0.0</td>\n",
              "      <td>0.0</td>\n",
              "      <td>0.0</td>\n",
              "      <td>0.0</td>\n",
              "    </tr>\n",
              "    <tr>\n",
              "      <th>max</th>\n",
              "      <td>9.000000</td>\n",
              "      <td>0.0</td>\n",
              "      <td>0.0</td>\n",
              "      <td>0.0</td>\n",
              "      <td>0.0</td>\n",
              "      <td>0.0</td>\n",
              "      <td>0.0</td>\n",
              "      <td>0.0</td>\n",
              "      <td>0.0</td>\n",
              "      <td>0.0</td>\n",
              "      <td>...</td>\n",
              "      <td>253.00000</td>\n",
              "      <td>253.000000</td>\n",
              "      <td>252.000000</td>\n",
              "      <td>177.000000</td>\n",
              "      <td>22.000000</td>\n",
              "      <td>0.0</td>\n",
              "      <td>0.0</td>\n",
              "      <td>0.0</td>\n",
              "      <td>0.0</td>\n",
              "      <td>0.0</td>\n",
              "    </tr>\n",
              "  </tbody>\n",
              "</table>\n",
              "<p>8 rows × 785 columns</p>\n",
              "</div>\n",
              "      <button class=\"colab-df-convert\" onclick=\"convertToInteractive('df-0e5d43d6-465f-4417-9529-d3d30178a8b0')\"\n",
              "              title=\"Convert this dataframe to an interactive table.\"\n",
              "              style=\"display:none;\">\n",
              "        \n",
              "  <svg xmlns=\"http://www.w3.org/2000/svg\" height=\"24px\"viewBox=\"0 0 24 24\"\n",
              "       width=\"24px\">\n",
              "    <path d=\"M0 0h24v24H0V0z\" fill=\"none\"/>\n",
              "    <path d=\"M18.56 5.44l.94 2.06.94-2.06 2.06-.94-2.06-.94-.94-2.06-.94 2.06-2.06.94zm-11 1L8.5 8.5l.94-2.06 2.06-.94-2.06-.94L8.5 2.5l-.94 2.06-2.06.94zm10 10l.94 2.06.94-2.06 2.06-.94-2.06-.94-.94-2.06-.94 2.06-2.06.94z\"/><path d=\"M17.41 7.96l-1.37-1.37c-.4-.4-.92-.59-1.43-.59-.52 0-1.04.2-1.43.59L10.3 9.45l-7.72 7.72c-.78.78-.78 2.05 0 2.83L4 21.41c.39.39.9.59 1.41.59.51 0 1.02-.2 1.41-.59l7.78-7.78 2.81-2.81c.8-.78.8-2.07 0-2.86zM5.41 20L4 18.59l7.72-7.72 1.47 1.35L5.41 20z\"/>\n",
              "  </svg>\n",
              "      </button>\n",
              "      \n",
              "  <style>\n",
              "    .colab-df-container {\n",
              "      display:flex;\n",
              "      flex-wrap:wrap;\n",
              "      gap: 12px;\n",
              "    }\n",
              "\n",
              "    .colab-df-convert {\n",
              "      background-color: #E8F0FE;\n",
              "      border: none;\n",
              "      border-radius: 50%;\n",
              "      cursor: pointer;\n",
              "      display: none;\n",
              "      fill: #1967D2;\n",
              "      height: 32px;\n",
              "      padding: 0 0 0 0;\n",
              "      width: 32px;\n",
              "    }\n",
              "\n",
              "    .colab-df-convert:hover {\n",
              "      background-color: #E2EBFA;\n",
              "      box-shadow: 0px 1px 2px rgba(60, 64, 67, 0.3), 0px 1px 3px 1px rgba(60, 64, 67, 0.15);\n",
              "      fill: #174EA6;\n",
              "    }\n",
              "\n",
              "    [theme=dark] .colab-df-convert {\n",
              "      background-color: #3B4455;\n",
              "      fill: #D2E3FC;\n",
              "    }\n",
              "\n",
              "    [theme=dark] .colab-df-convert:hover {\n",
              "      background-color: #434B5C;\n",
              "      box-shadow: 0px 1px 3px 1px rgba(0, 0, 0, 0.15);\n",
              "      filter: drop-shadow(0px 1px 2px rgba(0, 0, 0, 0.3));\n",
              "      fill: #FFFFFF;\n",
              "    }\n",
              "  </style>\n",
              "\n",
              "      <script>\n",
              "        const buttonEl =\n",
              "          document.querySelector('#df-0e5d43d6-465f-4417-9529-d3d30178a8b0 button.colab-df-convert');\n",
              "        buttonEl.style.display =\n",
              "          google.colab.kernel.accessAllowed ? 'block' : 'none';\n",
              "\n",
              "        async function convertToInteractive(key) {\n",
              "          const element = document.querySelector('#df-0e5d43d6-465f-4417-9529-d3d30178a8b0');\n",
              "          const dataTable =\n",
              "            await google.colab.kernel.invokeFunction('convertToInteractive',\n",
              "                                                     [key], {});\n",
              "          if (!dataTable) return;\n",
              "\n",
              "          const docLinkHtml = 'Like what you see? Visit the ' +\n",
              "            '<a target=\"_blank\" href=https://colab.research.google.com/notebooks/data_table.ipynb>data table notebook</a>'\n",
              "            + ' to learn more about interactive tables.';\n",
              "          element.innerHTML = '';\n",
              "          dataTable['output_type'] = 'display_data';\n",
              "          await google.colab.output.renderOutput(dataTable, element);\n",
              "          const docLink = document.createElement('div');\n",
              "          docLink.innerHTML = docLinkHtml;\n",
              "          element.appendChild(docLink);\n",
              "        }\n",
              "      </script>\n",
              "    </div>\n",
              "  </div>\n",
              "  "
            ]
          },
          "metadata": {},
          "execution_count": 10
        }
      ]
    },
    {
      "cell_type": "code",
      "source": [
        "# Visualizing the number of class and counts in the datasets\n",
        "plt.plot(figure = (16,10))\n",
        "graph = sns.countplot(mnist[\"label\"])\n",
        "plt.title('Number of digit classes')"
      ],
      "metadata": {
        "colab": {
          "base_uri": "https://localhost:8080/",
          "height": 312
        },
        "id": "AF181D5Pgzh4",
        "outputId": "96489d3a-b415-40ca-f4cb-977d2f691018"
      },
      "id": "AF181D5Pgzh4",
      "execution_count": 11,
      "outputs": [
        {
          "output_type": "execute_result",
          "data": {
            "text/plain": [
              "Text(0.5, 1.0, 'Number of digit classes')"
            ]
          },
          "metadata": {},
          "execution_count": 11
        },
        {
          "output_type": "display_data",
          "data": {
            "text/plain": [
              "<Figure size 432x288 with 1 Axes>"
            ],
            "image/png": "[encoded data removed]"
          },
          "metadata": {
            "needs_background": "light"
          }
        }
      ]
    },
    {
      "cell_type": "markdown",
      "id": "8e60f6b0",
      "metadata": {
        "id": "8e60f6b0"
      },
      "source": [
        "## **Split the dataset into training and test set**"
      ]
    },
    {
      "cell_type": "markdown",
      "source": [
        "The code below splits the data into training and test data sets, where, test_size=0.3 "
      ],
      "metadata": {
        "id": "vDblKrj9012g"
      },
      "id": "vDblKrj9012g"
    },
    {
      "cell_type": "code",
      "source": [
        "y = mnist['label']\n",
        "\n",
        "## Dropping the variable 'label' from X variable \n",
        "X = mnist.drop(columns = 'label')\n",
        "\n",
        "## Printing the size of data \n",
        "print(X.shape)"
      ],
      "metadata": {
        "colab": {
          "base_uri": "https://localhost:8080/"
        },
        "id": "BXvV7u4wh1s0",
        "outputId": "c7dd4426-383f-495b-caa9-a5390b18bc6f"
      },
      "id": "BXvV7u4wh1s0",
      "execution_count": 12,
      "outputs": [
        {
          "output_type": "stream",
          "name": "stdout",
          "text": [
            "(9170, 784)\n"
          ]
        }
      ]
    },
    {
      "cell_type": "code",
      "execution_count": 15,
      "id": "0a2e83ed",
      "metadata": {
        "id": "0a2e83ed"
      },
      "outputs": [],
      "source": [
        "# Test train split\n",
        "from sklearn.model_selection import train_test_split\n",
        "X_train, X_test, y_train, y_test = train_test_split(X, y, test_size = 0.3, train_size = 0.7 ,random_state = 10)\n"
      ]
    },
    {
      "cell_type": "code",
      "execution_count": 16,
      "id": "e57fe792",
      "metadata": {
        "id": "e57fe792",
        "colab": {
          "base_uri": "https://localhost:8080/"
        },
        "outputId": "9fcc49a9-0346-409d-80e0-df213391b277"
      },
      "outputs": [
        {
          "output_type": "execute_result",
          "data": {
            "text/plain": [
              "((6419, 784), (2751, 784))"
            ]
          },
          "metadata": {},
          "execution_count": 16
        }
      ],
      "source": [
        "# X is the image\n",
        "X_train.shape, X_test.shape"
      ]
    },
    {
      "cell_type": "code",
      "source": [
        "# y is the label\n",
        "y_train.shape, y_test.shape"
      ],
      "metadata": {
        "id": "VIuCkJ8i1B09",
        "colab": {
          "base_uri": "https://localhost:8080/"
        },
        "outputId": "1e3b07ed-dcd1-46f6-f515-5eb7156080dd"
      },
      "id": "VIuCkJ8i1B09",
      "execution_count": 17,
      "outputs": [
        {
          "output_type": "execute_result",
          "data": {
            "text/plain": [
              "((6419,), (2751,))"
            ]
          },
          "metadata": {},
          "execution_count": 17
        }
      ]
    },
    {
      "cell_type": "markdown",
      "id": "81933f31",
      "metadata": {
        "id": "81933f31"
      },
      "source": [
        "### Preview some images"
      ]
    },
    {
      "cell_type": "code",
      "source": [
        "X_train = np.array(X_train)\n",
        "print(type(X_train))"
      ],
      "metadata": {
        "id": "w1H6KWegVQJX",
        "colab": {
          "base_uri": "https://localhost:8080/"
        },
        "outputId": "f721bd94-279d-4ea3-c256-c5c786f58cc8"
      },
      "id": "w1H6KWegVQJX",
      "execution_count": 18,
      "outputs": [
        {
          "output_type": "stream",
          "name": "stdout",
          "text": [
            "<class 'numpy.ndarray'>\n"
          ]
        }
      ]
    },
    {
      "cell_type": "code",
      "source": [
        "plt.figure(figsize=(20,4))\n",
        "for index, (image, label) in enumerate(zip(X_train[0:10], y_train[0:10])):\n",
        " plt.subplot(1, 10, index + 1)\n",
        " plt.imshow(image.reshape(28,28), cmap=plt.cm.gray)\n",
        " plt.title('Training: %i\\n' % label, fontsize = 10)\n"
      ],
      "metadata": {
        "id": "pCoLpPWsWSEk",
        "colab": {
          "base_uri": "https://localhost:8080/",
          "height": 111
        },
        "outputId": "eeacd2b7-dc99-41a4-84ca-6c1fe01b3350"
      },
      "id": "pCoLpPWsWSEk",
      "execution_count": 19,
      "outputs": [
        {
          "output_type": "display_data",
          "data": {
            "text/plain": [
              "<Figure size 1440x288 with 10 Axes>"
            ],
            "image/png": "[encoded data removed]"
          },
          "metadata": {
            "needs_background": "light"
          }
        }
      ]
    },
    {
      "cell_type": "markdown",
      "source": [
        "# **Modelling - SVM (Linear Model)** "
      ],
      "metadata": {
        "id": "_6t8GwaXGMtJ"
      },
      "id": "_6t8GwaXGMtJ"
    },
    {
      "cell_type": "code",
      "source": [
        "from sklearn.svm import SVC\n",
        "# linear model\n",
        "\n",
        "model_linear = SVC(kernel='linear')\n",
        "model_linear.fit(X_train, y_train)\n",
        "\n",
        "# predict\n",
        "y_pred = model_linear.predict(X_test)"
      ],
      "metadata": {
        "id": "6O9BUkXpxZ1V"
      },
      "id": "6O9BUkXpxZ1V",
      "execution_count": 20,
      "outputs": []
    },
    {
      "cell_type": "markdown",
      "source": [
        "## **Measure the Accuracy of the Linear SVM**"
      ],
      "metadata": {
        "id": "t5MUpJciHBNw"
      },
      "id": "t5MUpJciHBNw"
    },
    {
      "cell_type": "code",
      "source": [
        "# Confusion matrix  and accuracy\n",
        "from sklearn import metrics\n",
        "from sklearn.metrics import confusion_matrix\n",
        "\n",
        "# accuracy\n",
        "print(\"accuracy:\", metrics.accuracy_score(y_true=y_test, y_pred=y_pred), \"\\n\")\n",
        "\n",
        "# cm\n",
        "print(metrics.confusion_matrix(y_true=y_test, y_pred=y_pred))"
      ],
      "metadata": {
        "id": "boX3UCC8yJtT",
        "colab": {
          "base_uri": "https://localhost:8080/"
        },
        "outputId": "c1e3a949-ee8d-4931-9557-ddca26651f99"
      },
      "id": "boX3UCC8yJtT",
      "execution_count": 21,
      "outputs": [
        {
          "output_type": "stream",
          "name": "stdout",
          "text": [
            "accuracy: 0.9178480552526354 \n",
            "\n",
            "[[255   0   1   1   0   3   2   0   0   0]\n",
            " [  0 287   0   2   0   1   0   1   2   1]\n",
            " [  1   2 284   4   3   3   0   3   4   0]\n",
            " [  1   1   6 246   0  11   1   1   8   1]\n",
            " [  0   0   2   0 250   0   0   2   0  11]\n",
            " [  0   5   1  12   3 225   2   1   1   4]\n",
            " [  7   1   5   0   2   6 251   0   0   0]\n",
            " [  3   1   4   0   1   0   1 276   0  13]\n",
            " [  1   9   7   7   0   6   1   3 214   4]\n",
            " [  2   0   1   2  16   1   0  12   2 237]]\n"
          ]
        }
      ]
    },
    {
      "cell_type": "code",
      "source": [
        "print(model_linear.predict(X_test[0:9]))\n",
        "print([y_test[0:9]])"
      ],
      "metadata": {
        "id": "O_HSSw90GoPr",
        "colab": {
          "base_uri": "https://localhost:8080/"
        },
        "outputId": "24f0aa96-9857-4ccf-cb49-cc051cc5fb22"
      },
      "id": "O_HSSw90GoPr",
      "execution_count": 22,
      "outputs": [
        {
          "output_type": "stream",
          "name": "stdout",
          "text": [
            "[5 7 1 4 1 6 3 2 9]\n",
            "[8613    5\n",
            "5443    7\n",
            "6097    1\n",
            "1295    4\n",
            "5229    1\n",
            "1052    6\n",
            "8202    3\n",
            "1419    2\n",
            "6999    9\n",
            "Name: label, dtype: int64]\n"
          ]
        }
      ]
    },
    {
      "cell_type": "code",
      "source": [
        "# training score\n",
        "train_score = model_linear.score(X_train, y_train)\n",
        "print(train_score)"
      ],
      "metadata": {
        "id": "_na66y_hHDrl",
        "colab": {
          "base_uri": "https://localhost:8080/"
        },
        "outputId": "9f188f2d-5c13-401e-cf8a-5e042045e03d"
      },
      "id": "_na66y_hHDrl",
      "execution_count": 23,
      "outputs": [
        {
          "output_type": "stream",
          "name": "stdout",
          "text": [
            "1.0\n"
          ]
        }
      ]
    },
    {
      "cell_type": "code",
      "source": [
        "# testing score\n",
        "test_score = model_linear.score(X_test, y_test)\n",
        "print(test_score)"
      ],
      "metadata": {
        "id": "HEhBwa83HTac",
        "colab": {
          "base_uri": "https://localhost:8080/"
        },
        "outputId": "568ba98f-a437-419d-f767-1c64d81dfaf3"
      },
      "id": "HEhBwa83HTac",
      "execution_count": 24,
      "outputs": [
        {
          "output_type": "stream",
          "name": "stdout",
          "text": [
            "0.9178480552526354\n"
          ]
        }
      ]
    },
    {
      "cell_type": "markdown",
      "source": [
        "### **Important points:**\n",
        "For Linear SVM Model\n",
        "\n",
        "* **Acurracy for training set: 100%**\n",
        "\n",
        "* **Acurracy for testing set: 91%**\n",
        "\n",
        "The linear model gives approx. 91% accuracy."
      ],
      "metadata": {
        "id": "2u_9aY0QrQi7"
      },
      "id": "2u_9aY0QrQi7"
    },
    {
      "cell_type": "markdown",
      "source": [
        "### **Performance report**"
      ],
      "metadata": {
        "id": "s-j5G5JanEe2"
      },
      "id": "s-j5G5JanEe2"
    },
    {
      "cell_type": "code",
      "source": [
        "# class-wise accuracy\n",
        "class_wise = metrics.classification_report(y_true=y_test, y_pred=y_pred)\n",
        "\n",
        "print(\"Performance Report: \\n\",class_wise)"
      ],
      "metadata": {
        "id": "a1WzSArfjt85",
        "colab": {
          "base_uri": "https://localhost:8080/"
        },
        "outputId": "4d0c1c10-b9e4-41fe-8b5c-b8eb20c7bbf3"
      },
      "id": "a1WzSArfjt85",
      "execution_count": 25,
      "outputs": [
        {
          "output_type": "stream",
          "name": "stdout",
          "text": [
            "Performance Report: \n",
            "               precision    recall  f1-score   support\n",
            "\n",
            "           0       0.94      0.97      0.96       262\n",
            "           1       0.94      0.98      0.96       294\n",
            "           2       0.91      0.93      0.92       304\n",
            "           3       0.90      0.89      0.89       276\n",
            "           4       0.91      0.94      0.93       265\n",
            "           5       0.88      0.89      0.88       254\n",
            "           6       0.97      0.92      0.95       272\n",
            "           7       0.92      0.92      0.92       299\n",
            "           8       0.93      0.85      0.89       252\n",
            "           9       0.87      0.87      0.87       273\n",
            "\n",
            "    accuracy                           0.92      2751\n",
            "   macro avg       0.92      0.92      0.92      2751\n",
            "weighted avg       0.92      0.92      0.92      2751\n",
            "\n"
          ]
        }
      ]
    },
    {
      "cell_type": "markdown",
      "source": [
        "# **Display predictions on some random images from test set**"
      ],
      "metadata": {
        "id": "k9zK5AHSbiTg"
      },
      "id": "k9zK5AHSbiTg"
    },
    {
      "cell_type": "code",
      "source": [
        "# function to convert float image to uint8, and map values in range 0-255\n",
        "def process(image):\n",
        "    image -= image.min()\n",
        "    image /= image.max()\n",
        "    image *= 255\n",
        "    return image.astype(np.uint8)"
      ],
      "metadata": {
        "id": "UB9yl44eKx-H"
      },
      "id": "UB9yl44eKx-H",
      "execution_count": 26,
      "outputs": []
    },
    {
      "cell_type": "code",
      "source": [
        "# display predictions on some random images from test set\n",
        "plt.figure(figsize=(10,5))\n",
        "\n",
        "R, C = 2, 5\n",
        "N = R * C\n",
        "indices = np.random.randint(0, len(X_test), size=N)\n",
        "X_test = np.array(X_test)\n",
        "y_test = np.array(y_test)\n",
        "\n",
        "for i, idx in enumerate(indices):\n",
        "    test_image = X_test[idx].reshape(1,-1)\n",
        "    prediction = model_linear.predict(test_image)[0]\n",
        "    ax = plt.subplot(R, C, i + 1)\n",
        "    plot_image = process(test_image.reshape((28, 28)))\n",
        "    ax.title.set_text(f'label: {y_test[idx]}\\nprediction: {prediction}')\n",
        "    ax.imshow(plot_image, cmap='gray')\n",
        "    plt.xticks([]), plt.yticks([])\n",
        "plt.show()"
      ],
      "metadata": {
        "id": "IPAjuPxcIufU",
        "colab": {
          "base_uri": "https://localhost:8080/",
          "height": 310
        },
        "outputId": "cd1c2b19-509d-4d3a-915c-461d81f49cf5"
      },
      "id": "IPAjuPxcIufU",
      "execution_count": 27,
      "outputs": [
        {
          "output_type": "display_data",
          "data": {
            "text/plain": [
              "<Figure size 720x360 with 10 Axes>"
            ],
            "image/png": "[encoded data removed]"
          },
          "metadata": {}
        }
      ]
    },
    {
      "cell_type": "markdown",
      "source": [
        "# **Display Misclassified images with Predicted Labels (MNIST) with linear SVM**"
      ],
      "metadata": {
        "id": "1zpPnhly3fUZ"
      },
      "id": "1zpPnhly3fUZ"
    },
    {
      "cell_type": "code",
      "source": [
        "import numpy as np \n",
        "import matplotlib.pyplot as plt\n",
        "index = 0\n",
        "misclassifiedCount = 0\n",
        "\n",
        "# Storing the misclassified images from the test set \n",
        "misclassifiedIndexes = []\n",
        "for label, predict in zip(y_test, y_pred):\n",
        "  if label != predict: \n",
        "    misclassifiedIndexes.append(index)\n",
        "    misclassifiedCount += 1 \n",
        "  index += 1\n"
      ],
      "metadata": {
        "id": "c7kNKTOI3ew4"
      },
      "id": "c7kNKTOI3ew4",
      "execution_count": 28,
      "outputs": []
    },
    {
      "cell_type": "code",
      "source": [
        "print(\"Total Number of misclassified images from testing set out of \",index,\" is: \", misclassifiedCount)"
      ],
      "metadata": {
        "id": "ZxZL_3FhmBbu",
        "colab": {
          "base_uri": "https://localhost:8080/"
        },
        "outputId": "b24949da-5e94-49b6-cdef-501b129b9cac"
      },
      "id": "ZxZL_3FhmBbu",
      "execution_count": 29,
      "outputs": [
        {
          "output_type": "stream",
          "name": "stdout",
          "text": [
            "Total Number of misclassified images from testing set out of  2751  is:  226\n"
          ]
        }
      ]
    },
    {
      "cell_type": "code",
      "source": [
        "# Plotting misclassified images from testing set\n",
        "\n",
        "plt.figure(figsize=(20,4))\n",
        "test_img = np.array(X_test)\n",
        "predictions = np.array(y_pred)\n",
        "test_lbl = np.array(y_test)\n",
        "for plotIndex, badIndex in enumerate(misclassifiedIndexes[0:10]):\n",
        " plt.subplot(1, 10, plotIndex + 1)\n",
        " plt.imshow(np.reshape(test_img[badIndex], (28,28)), cmap=plt.cm.gray)\n",
        " plt.title(f'Predicted: {predictions[badIndex]},\\nActual: {test_lbl[badIndex]}')"
      ],
      "metadata": {
        "id": "zrawjIO43mYn",
        "colab": {
          "base_uri": "https://localhost:8080/",
          "height": 114
        },
        "outputId": "5e3c4eb8-0583-47f4-8d17-e948fcf07458"
      },
      "id": "zrawjIO43mYn",
      "execution_count": 30,
      "outputs": [
        {
          "output_type": "display_data",
          "data": {
            "text/plain": [
              "<Figure size 1440x288 with 10 Axes>"
            ],
            "image/png": "[encoded data removed]"
          },
          "metadata": {
            "needs_background": "light"
          }
        }
      ]
    },
    {
      "cell_type": "markdown",
      "source": [
        "# **Modelling - SVM (Non Linear Model)** "
      ],
      "metadata": {
        "id": "kizuU5I5nNrA"
      },
      "id": "kizuU5I5nNrA"
    },
    {
      "cell_type": "code",
      "source": [
        "# non-linear model\n",
        "# using rbf kernel, C=1, default value of gamma\n",
        "\n",
        "# model\n",
        "non_linear_model = SVC(kernel='rbf')\n",
        "\n",
        "# fit\n",
        "non_linear_model.fit(X_train, y_train)\n",
        "\n",
        "# predict\n",
        "y_pred = non_linear_model.predict(X_test)"
      ],
      "metadata": {
        "id": "-ozFag7-nbcq"
      },
      "id": "-ozFag7-nbcq",
      "execution_count": 31,
      "outputs": []
    },
    {
      "cell_type": "markdown",
      "source": [
        "## **Measure the Accuracy of the Non Linear (RBF) SVM**"
      ],
      "metadata": {
        "id": "4OihEha2D7wU"
      },
      "id": "4OihEha2D7wU"
    },
    {
      "cell_type": "code",
      "source": [
        "# confusion matrix and accuracy\n",
        "\n",
        "# accuracy\n",
        "print(\"accuracy:\", metrics.accuracy_score(y_true=y_test, y_pred=y_pred), \"\\n\")\n",
        "\n",
        "# cm\n",
        "print(metrics.confusion_matrix(y_true=y_test, y_pred=y_pred))"
      ],
      "metadata": {
        "id": "3-giNRG7ngYF",
        "colab": {
          "base_uri": "https://localhost:8080/"
        },
        "outputId": "a01ae42c-d102-4f35-b7f6-cc043908cba0"
      },
      "id": "3-giNRG7ngYF",
      "execution_count": 32,
      "outputs": [
        {
          "output_type": "stream",
          "name": "stdout",
          "text": [
            "accuracy: 0.9611050527081061 \n",
            "\n",
            "[[260   0   0   0   0   0   2   0   0   0]\n",
            " [  0 286   2   2   1   1   0   0   1   1]\n",
            " [  1   1 293   0   2   0   0   3   3   1]\n",
            " [  0   0   6 259   0   4   1   1   5   0]\n",
            " [  0   0   0   0 257   0   0   0   0   8]\n",
            " [  0   2   1   3   1 243   1   0   1   2]\n",
            " [  2   0   0   0   1   4 265   0   0   0]\n",
            " [  2   0   3   0   3   0   0 285   0   6]\n",
            " [  0   1   0   2   1   2   1   2 242   1]\n",
            " [  1   0   1   3   6   0   0   6   2 254]]\n"
          ]
        }
      ]
    },
    {
      "cell_type": "code",
      "source": [
        "# training score\n",
        "train_score = non_linear_model.score(X_train, y_train)\n",
        "print(train_score)"
      ],
      "metadata": {
        "id": "887GBkdWnn9-",
        "colab": {
          "base_uri": "https://localhost:8080/"
        },
        "outputId": "517ec2db-b190-4779-bafa-8ed34a5121ad"
      },
      "id": "887GBkdWnn9-",
      "execution_count": 33,
      "outputs": [
        {
          "output_type": "stream",
          "name": "stdout",
          "text": [
            "0.9856675494625331\n"
          ]
        }
      ]
    },
    {
      "cell_type": "code",
      "source": [
        "# testing score\n",
        "test_score = non_linear_model.score(X_test, y_test)\n",
        "print(test_score)"
      ],
      "metadata": {
        "id": "xULpbx9yn9rp",
        "colab": {
          "base_uri": "https://localhost:8080/"
        },
        "outputId": "53063458-fff6-4df0-ba42-a6456c62ead1"
      },
      "id": "xULpbx9yn9rp",
      "execution_count": 34,
      "outputs": [
        {
          "output_type": "stream",
          "name": "stdout",
          "text": [
            "0.9611050527081061\n"
          ]
        }
      ]
    },
    {
      "cell_type": "markdown",
      "source": [
        "# **Display Misclassified images with Predicted Labels (MNIST) with Non linear SVM**"
      ],
      "metadata": {
        "id": "vHnQEHt1EIM9"
      },
      "id": "vHnQEHt1EIM9"
    },
    {
      "cell_type": "code",
      "source": [
        "import numpy as np \n",
        "import matplotlib.pyplot as plt\n",
        "index = 0\n",
        "misclassifiedCount = 0\n",
        "\n",
        "# Storing the misclassified images from the test set \n",
        "misclassifiedIndexes = []\n",
        "for label, predict in zip(y_test, y_pred):\n",
        "  if label != predict: \n",
        "    misclassifiedIndexes.append(index)\n",
        "    misclassifiedCount += 1 \n",
        "  index += 1"
      ],
      "metadata": {
        "id": "RsJPCd3xEHL4"
      },
      "id": "RsJPCd3xEHL4",
      "execution_count": 35,
      "outputs": []
    },
    {
      "cell_type": "code",
      "source": [
        "print(\"Total Number of misclassified images from testing set out of \",index,\" is: \", misclassifiedCount)"
      ],
      "metadata": {
        "colab": {
          "base_uri": "https://localhost:8080/"
        },
        "id": "xJstnn1QEOkn",
        "outputId": "72ed8806-68b2-4a9c-cc31-49097178a2a5"
      },
      "id": "xJstnn1QEOkn",
      "execution_count": 36,
      "outputs": [
        {
          "output_type": "stream",
          "name": "stdout",
          "text": [
            "Total Number of misclassified images from testing set out of  2751  is:  107\n"
          ]
        }
      ]
    },
    {
      "cell_type": "markdown",
      "source": [
        "# **CONCLUSION**"
      ],
      "metadata": {
        "id": "kr_2QLS8H-5Y"
      },
      "id": "kr_2QLS8H-5Y"
    },
    {
      "cell_type": "markdown",
      "source": [
        "**With Linear SVM model:**\n",
        "* Training accuracy was: 100%\n",
        "* Testing accuracy was: 91%\n",
        "\n",
        "**With Non-Linear SVM model the accuracy increased:**\n",
        "* Training accuracy was: 98%\n",
        "* Testing accuracy was: 96%\n",
        "\n"
      ],
      "metadata": {
        "id": "ikAPY6z-ICUF"
      },
      "id": "ikAPY6z-ICUF"
    },
    {
      "cell_type": "markdown",
      "source": [
        "Also, **Misclassified imgaes** for \n",
        "* *Linear SVM was **226** out of 2751 testing dataset*\n",
        "\n",
        "* *Non Linear SVM was **107** out of 2751 testing dataset*\n",
        "\n",
        "\n",
        "\n",
        "## So, It can be infered very well that Non-Linear SVM works better for MNIST Dataset "
      ],
      "metadata": {
        "id": "NXEzjpH0FUDo"
      },
      "id": "NXEzjpH0FUDo"
    },
    {
      "cell_type": "code",
      "source": [
        ""
      ],
      "metadata": {
        "id": "PDHIqfpLF3dC"
      },
      "id": "PDHIqfpLF3dC",
      "execution_count": null,
      "outputs": []
    }
  ],
  "metadata": {
    "kernelspec": {
      "display_name": "Python 3 (ipykernel)",
      "language": "python",
      "name": "python3"
    },
    "language_info": {
      "codemirror_mode": {
        "name": "ipython",
        "version": 3
      },
      "file_extension": ".py",
      "mimetype": "text/x-python",
      "name": "python",
      "nbconvert_exporter": "python",
      "pygments_lexer": "ipython3",
      "version": "3.9.7"
    },
    "colab": {
      "name": "Exp_3.1_and_3.2_SVM on MNIST (Jasleen Minhas, 20BCS6897).ipynb",
      "provenance": [],
      "collapsed_sections": []
    }
  },
  "nbformat": 4,
  "nbformat_minor": 5
}